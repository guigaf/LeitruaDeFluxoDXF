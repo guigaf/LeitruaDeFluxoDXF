{
 "cells": [
  {
   "cell_type": "code",
   "execution_count": 1,
   "id": "fbaa4e35",
   "metadata": {
    "scrolled": true
   },
   "outputs": [],
   "source": [
    "import ezdxf"
   ]
  },
  {
   "cell_type": "code",
   "execution_count": 2,
   "id": "2f6d6f1f",
   "metadata": {},
   "outputs": [],
   "source": [
    "try: \n",
    "    # Abre o arquivo DXF \n",
    "    projeto_dxf = ezdxf.readfile(\"fluxo_01.dxf\") \n",
    "    elevador_dxf = ezdxf.readfile('elevador.dxf') \n",
    "    redler_dxf = ezdxf.readfile('redler.dxf') \n",
    "except IOError:\n",
    "    print(f\"Não é um arquivo DXF ou um erro genérico de E/S.\") \n",
    "    sys.exit(1) \n",
    "except ezdxf.DXFStructureError:\n",
    "    print(f\"Arquivo DXF inválido ou corrompido.\") \n",
    "    sys.exit(2)"
   ]
  },
  {
   "cell_type": "code",
   "execution_count": 3,
   "id": "99cf3a15",
   "metadata": {},
   "outputs": [],
   "source": [
    "# Obtém os blocos dos arquivos elevador.dxf e redler.dxf\n",
    "elevador_blocks = elevador_dxf.blocks\n",
    "redler_blocks = redler_dxf.blocks"
   ]
  },
  {
   "cell_type": "code",
   "execution_count": 4,
   "id": "5cc8097e",
   "metadata": {},
   "outputs": [],
   "source": [
    "# Obtém os modelos dos arquivos DXF\n",
    "projeto_entities = projeto_dxf.modelspace()\n",
    "elevador_entities = elevador_dxf.modelspace()\n",
    "redler_entities = redler_dxf.modelspace()"
   ]
  },
  {
   "cell_type": "code",
   "execution_count": 37,
   "id": "8c84562e",
   "metadata": {},
   "outputs": [
    {
     "name": "stdout",
     "output_type": "stream",
     "text": [
      "Escala em X: 1.0\n",
      "Escala em Y: 1.0\n",
      "Ponto de insercao: (-99.32066522811387, 1.148215782983975, 0.0)\n",
      "----------------------------------------------------------------\n",
      "Escala em X: 1.0\n",
      "Escala em Y: 1.0\n",
      "Ponto de insercao: (-51.1567265457941, 90.68692433118045, 0.0)\n",
      "----------------------------------------------------------------\n",
      "Escala em X: 1.0\n",
      "Escala em Y: 1.0\n",
      "Ponto de insercao: (153.4701796373823, 62.78325530620185, 0.0)\n",
      "----------------------------------------------------------------\n"
     ]
    }
   ],
   "source": [
    "# Inicializa as coordenadas máximas como as menores coordenadas possíveis\n",
    "max_x = 0\n",
    "max_y = 0\n",
    "min_x = 32000\n",
    "min_y = 32000\n",
    "\n",
    "# Percorre todas as entidades do desenho\n",
    "#for entity in elevador_entities:\n",
    "for entity in projeto_entities:\n",
    "    if entity.dxftype() in ['INSERT']:\n",
    "        # Obtém o valor de escala do objeto INSERT\n",
    "        scale_x = entity.dxf.xscale\n",
    "        scale_y = entity.dxf.yscale\n",
    "        \n",
    "        # Acesse o ponto de base (base_point)\n",
    "        base_point = entity.dxf.insert \n",
    "        \n",
    "        # Atualiza as coordenadas máximas e minimas\n",
    "        #max_x = max(max_x, x1, x2)\n",
    "        #max_y = max(max_y, y1, y2)\n",
    "        #min_x = min(min_x, x1, x2)\n",
    "        #min_y = min(min_y, y1, y2)\n",
    "        print(\"Escala em X: {}\".format(scale_x))\n",
    "        print(\"Escala em Y: {}\".format(scale_y))\n",
    "        print(\"Ponto de insercao: {}\".format(base_point))\n",
    "        print(f'----------------------------------------------------------------')"
   ]
  },
  {
   "cell_type": "code",
   "execution_count": 20,
   "id": "b84c6a81",
   "metadata": {},
   "outputs": [],
   "source": [
    "# Separa os objetos por tipos\n",
    "objRedLine = projeto_entities.query('LINE[color == 1]')\n",
    "objMTexto = projeto_entities.query('MTEXT')\n",
    "objInsert = projeto_entities.query('INSERT')"
   ]
  },
  {
   "cell_type": "code",
   "execution_count": 21,
   "id": "902e8e62",
   "metadata": {},
   "outputs": [],
   "source": [
    "# Obtém as referências a blocos nos entities do arquivo projeto.dxf\n",
    "references = [entity for entity in projeto_entities if entity.dxftype() == 'INSERT']"
   ]
  },
  {
   "cell_type": "code",
   "execution_count": 92,
   "id": "6aa869ce",
   "metadata": {},
   "outputs": [
    {
     "name": "stdout",
     "output_type": "stream",
     "text": [
      "Nome do elevador: elevador\n",
      "Canto Inferior esquerdo X: -99.32066522811387, Y: 1.148215782983975\n",
      "Nome do redler: redler-3\n",
      "Canto Inferior esquerdo X: -51.1567265457941, Y: 90.68692433118045\n",
      "Nome do redler: redler-4\n",
      "Canto Inferior esquerdo X: 153.4701796373823, Y: 62.78325530620185\n"
     ]
    }
   ],
   "source": [
    "# Percorre as referências a blocos e obtém suas coordenadas de inserção\n",
    "for reference in references:\n",
    "    block_name = reference.dxf.name\n",
    "    insertion_point = reference.dxf.insert\n",
    "    \n",
    "    if block_name.startswith('redler'):\n",
    "        print(f'Nome do redler: {block_name}')\n",
    "        print(f'Canto Inferior esquerdo X: {insertion_point[0]}, Y: {insertion_point[1]}')\n",
    "        \n",
    "    if block_name.startswith('elevador'):\n",
    "        print(f'Nome do elevador: {block_name}')\n",
    "        print(f'Canto Inferior esquerdo X: {insertion_point[0]}, Y: {insertion_point[1]}')"
   ]
  },
  {
   "cell_type": "code",
   "execution_count": 84,
   "id": "a92e7ade",
   "metadata": {},
   "outputs": [
    {
     "name": "stdout",
     "output_type": "stream",
     "text": [
      "ob: (LINE, 1, 0)\n",
      "ob: (INSERT, 256, 0)\n",
      "ob: (INSERT, 256, 0)\n",
      "ob: (INSERT, 256, 0)\n",
      "ob: (MTEXT, 256, 0)\n",
      "ob: (MTEXT, 256, 0)\n",
      "ob: (MTEXT, 256, 0)\n",
      "ob: (LINE, 256, 0)\n"
     ]
    }
   ],
   "source": [
    "# Seleciona a camada contendo a linha vermelha\n",
    "projeto_entities = projeto_dxf.modelspace()\n",
    "\n",
    "# Encontra todos os meus objetos presentes no arquivo DXF\n",
    "for objFinder in projeto_entities:\n",
    "    T1 = objFinder.dxftype()  # type of the entity\n",
    "    T2 = objFinder.dxf.color  # color of the entity as integer\n",
    "    T3 = objFinder.dxf.layer  # layer of the entity as string\n",
    "\n",
    "    print(f'ob: ({T1}, {T2}, {T3})')"
   ]
  },
  {
   "cell_type": "code",
   "execution_count": 70,
   "id": "76c0a727",
   "metadata": {},
   "outputs": [
    {
     "name": "stdout",
     "output_type": "stream",
     "text": [
      "Texto: EL_R101\n",
      "Canto superior esquerdo X: -98.63241796111271, Y: 114.3239390003806\n",
      "Canto inferior direito X: -32.629873516668255, Y: 104.3239390003806\n",
      "----------------------------------------------------------------\n",
      "Texto: RD_R101\n",
      "Canto superior esquerdo X: -50.56156779319667, Y: 88.66954745999021\n",
      "Canto inferior direito X: 18.298725540136672, Y: 78.66954745999021\n",
      "----------------------------------------------------------------\n",
      "Texto: RD_R102\n",
      "Canto superior esquerdo X: 153.1791339547584, Y: 62.01886886948753\n",
      "Canto inferior direito X: 224.4225350658695, Y: 52.01886886948753\n",
      "----------------------------------------------------------------\n"
     ]
    }
   ],
   "source": [
    "for mText in objMTexto: \n",
    "    # conteúdo do texto\n",
    "    text_content = mText.text\n",
    "\n",
    "    # imprime o conteúdo de cada elemento MTEXT\n",
    "    print(\"Texto: {}\".format(text_content))\n",
    "    \n",
    "    # calcula a altura do MTEXT com base no tamanho do caractere e na altura do quadro de texto\n",
    "    char_height = mText.dxf.char_height\n",
    "    \n",
    "    # Pega o comprimento do MTEXT\n",
    "    char_width = mText.dxf.width\n",
    "\n",
    "    # armazena as coordenadas do canto inferior esquerdo e do canto superior direito da caixa delimitadora em variáveis\n",
    "    x1, y1 = mText.dxf.insert[0], mText.dxf.insert[1]\n",
    "    x2, y2 = x1 + char_width, y1 - char_height\n",
    "\n",
    "    # imprime as coordenadas e dimensões da caixa delimitadora\n",
    "    print(f'Canto superior esquerdo X: {x1}, Y: {y1}')\n",
    "    print(f'Canto inferior direito X: {x2}, Y: {y2}')\n",
    "    print(f'----------------------------------------------------------------')"
   ]
  },
  {
   "cell_type": "code",
   "execution_count": 55,
   "id": "2c6dcf75",
   "metadata": {},
   "outputs": [
    {
     "name": "stdout",
     "output_type": "stream",
     "text": [
      "Coordenadas de início: (7.238265278832665, 0.9915431888811872)\n",
      "Coordenadas de fim: (97.61106036947616, 0.9915431888811872)\n"
     ]
    }
   ],
   "source": [
    "for line in objRedLine:\n",
    "    # Obtém as coordenadas de início e fim da linha vermelha\n",
    "    start_point_line = line.dxf.start\n",
    "    end_point_line = line.dxf.end\n",
    "\n",
    "    # Exibe as coordenadas\n",
    "    print(\"Coordenadas de início: ({}, {})\".format(start_point_line[0], start_point_line[1]))\n",
    "    print(\"Coordenadas de fim: ({}, {})\".format(end_point_line[0], end_point_line[1]))"
   ]
  },
  {
   "cell_type": "code",
   "execution_count": null,
   "id": "a1ac1560",
   "metadata": {},
   "outputs": [],
   "source": []
  },
  {
   "cell_type": "code",
   "execution_count": null,
   "id": "17c8a85d",
   "metadata": {},
   "outputs": [],
   "source": []
  },
  {
   "cell_type": "code",
   "execution_count": null,
   "id": "ae28b6a9",
   "metadata": {},
   "outputs": [],
   "source": []
  },
  {
   "cell_type": "code",
   "execution_count": null,
   "id": "ba819275",
   "metadata": {},
   "outputs": [],
   "source": []
  },
  {
   "cell_type": "code",
   "execution_count": null,
   "id": "bb19f9e7",
   "metadata": {},
   "outputs": [],
   "source": [
    "# Carrega o arquivo DXF\n",
    "elevador_dxf = ezdxf.readfile('elevador.dxf')\n",
    "doc = elevador_dxf.modelspace()\n",
    "\n",
    "# Inicializa as coordenadas máximas como as menores coordenadas possíveis\n",
    "max_x = 0\n",
    "max_y = 0\n",
    "\n",
    "# Percorre todas as entidades do desenho\n",
    "for entity in doc:\n",
    "    if entity.dxftype() in ['POINT', 'LINE', 'LWPOLYLINE', 'POLYLINE', 'CIRCLE', 'ARC', 'ELLIPSE', 'SPLINE', 'MTEXT', 'TEXT']:\n",
    "        # Obtém as coordenadas do ponto inicial e final da entidade, se disponível\n",
    "        x1, y1 = entity.dxf.start[0], entity.dxf.start[1]\n",
    "        x2, y2 = entity.dxf.end[0], entity.dxf.end[1]\n",
    "\n",
    "        # Atualiza as coordenadas máximas\n",
    "        max_x = max(max_x, x1, x2)\n",
    "        max_y = max(max_y, y1, y2)\n",
    "\n",
    "# Imprime as coordenadas máximas encontradas\n",
    "print(\"Maior coordenada em X: {}\".format(max_x))\n",
    "print(\"Maior coordenada em Y: {}\".format(max_y))"
   ]
  }
 ],
 "metadata": {
  "kernelspec": {
   "display_name": "Python 3 (ipykernel)",
   "language": "python",
   "name": "python3"
  },
  "language_info": {
   "codemirror_mode": {
    "name": "ipython",
    "version": 3
   },
   "file_extension": ".py",
   "mimetype": "text/x-python",
   "name": "python",
   "nbconvert_exporter": "python",
   "pygments_lexer": "ipython3",
   "version": "3.10.9"
  }
 },
 "nbformat": 4,
 "nbformat_minor": 5
}
